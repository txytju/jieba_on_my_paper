{
 "cells": [
  {
   "cell_type": "markdown",
   "metadata": {},
   "source": [
    "### 1. 使用jieba分词，得到文本中包含的词及词出现的次数 "
   ]
  },
  {
   "cell_type": "code",
   "execution_count": 1,
   "metadata": {
    "collapsed": false
   },
   "outputs": [
    {
     "name": "stderr",
     "output_type": "stream",
     "text": [
      "Building prefix dict from the default dictionary ...\n",
      "Loading model from cache c:\\users\\txy\\appdata\\local\\temp\\jieba.cache\n",
      "Loading model cost 0.407 seconds.\n",
      "Prefix dict has been built succesfully.\n"
     ]
    }
   ],
   "source": [
    "import numpy as np\n",
    "import math\n",
    "import jieba\n",
    "\n",
    "# 首先对文本进行处理，得到 my_paper.txt文件\n",
    "#   包括去除标点符号、英文字符等\n",
    "\n",
    "# encoding=utf-8\n",
    "file = open('my_paper.txt')\n",
    "all_the_text = file.read()\n",
    "\n",
    "\n",
    "# 载入自定义字典，强调单词“地震动”\n",
    "jieba.load_userdict(\"userdict.txt\")\n",
    "\n",
    "# 生成一个 list\n",
    "words = jieba.lcut(all_the_text, cut_all=False)\n",
    "\n",
    "import collections\n",
    "# 生成一个字典，键是字，字是出现的次数\n",
    "dic = collections.Counter(words)\n",
    "\n",
    "# 出现的次数进行排序，频次：values\n",
    "values = sorted(dic.values(),reverse=True)\n",
    "\n",
    "# 将次数从高到低对应的键进行排序\n",
    "keys = sorted(dic, key=dic.__getitem__, reverse=True)"
   ]
  },
  {
   "cell_type": "markdown",
   "metadata": {},
   "source": [
    "### 2.查看高频词"
   ]
  },
  {
   "cell_type": "code",
   "execution_count": 2,
   "metadata": {
    "collapsed": false
   },
   "outputs": [
    {
     "name": "stdout",
     "output_type": "stream",
     "text": [
      "的 956\n",
      "地震动 441\n",
      "结构 385\n",
      "持时 219\n",
      "强度 194\n",
      "和 165\n",
      "在 160\n",
      "为 136\n",
      "参数 133\n",
      "网壳 126\n",
      "对 112\n",
      "模型 109\n",
      "地震 109\n",
      "响应 108\n",
      "与 98\n",
      "研究 95\n",
      "单层 90\n",
      "中 87\n",
      "分析 87\n",
      "计算 85\n",
      "了 84\n",
      "损伤 81\n",
      "时 81\n",
      "作用 80\n",
      "下 77\n",
      "是 74\n",
      "进行 72\n",
      "频率 71\n",
      "球面 70\n",
      "动力 67\n"
     ]
    }
   ],
   "source": [
    "# 看一下出现频率高的都是什么词\n",
    "# 根据结果调整一些词的词频\n",
    "for i in range(30):\n",
    "    print keys[i], values[i]"
   ]
  },
  {
   "cell_type": "markdown",
   "metadata": {},
   "source": [
    "### 3.词序与词频关系可视化"
   ]
  },
  {
   "cell_type": "code",
   "execution_count": 3,
   "metadata": {
    "collapsed": true
   },
   "outputs": [],
   "source": [
    "# 统计一共有多少个词\n",
    "length_of_words = len(keys)"
   ]
  },
  {
   "cell_type": "code",
   "execution_count": 4,
   "metadata": {
    "collapsed": false
   },
   "outputs": [],
   "source": [
    "# 次序编号 1-1838\n",
    "\n",
    "# x(n)\n",
    "x = np.arange(1, length_of_words+1)\n",
    "\n",
    "# log_x(log_n)\n",
    "log_x = np.zeros(length_of_words)\n",
    "for i in range(length_of_words):\n",
    "    log_x[i] = math.log(x[i])\n",
    "    \n",
    "# 次出现的频率：xd_values\n",
    "sum_all = float(sum(values))\n",
    "xd_values = np.zeros(length_of_words)\n",
    "for i in range(length_of_words):\n",
    "    xd_values[i] = values[i]/sum_all\n",
    "\n",
    "# 频率的log值：log_xd_values\n",
    "log_xd_values = np.zeros(length_of_words)\n",
    "for i in range(length_of_words):\n",
    "    log_xd_values[i] = math.log(xd_values[i])"
   ]
  },
  {
   "cell_type": "code",
   "execution_count": 13,
   "metadata": {
    "collapsed": false
   },
   "outputs": [
    {
     "data": {
      "image/png": "[encoded data removed]",
      "text/plain": [
       "<matplotlib.figure.Figure at 0xb9b51d0>"
      ]
     },
     "metadata": {},
     "output_type": "display_data"
    }
   ],
   "source": [
    "# 画图\n",
    "# 序号 x 和 出现次数 values\n",
    "%matplotlib inline\n",
    "from matplotlib import pyplot as plt\n",
    "fig, ax = plt.subplots()\n",
    "ax.scatter(x, values);\n",
    "ax.set_xlabel('order');\n",
    "ax.set_ylabel('times');"
   ]
  },
  {
   "cell_type": "code",
   "execution_count": 17,
   "metadata": {
    "collapsed": true
   },
   "outputs": [],
   "source": [
    "log_x = np.array(log_x)\n",
    "log_xd_values = np.array(log_xd_values)"
   ]
  },
  {
   "cell_type": "code",
   "execution_count": 11,
   "metadata": {
    "collapsed": false
   },
   "outputs": [
    {
     "name": "stdout",
     "output_type": "stream",
     "text": [
      "斜率是 [[-1.10453629]]\n",
      "截距是 [-1.33838408]\n"
     ]
    }
   ],
   "source": [
    "# 用log_x和log_xd_values做线性回归\n",
    "from sklearn import linear_model\n",
    "model = linear_model.LinearRegression()\n",
    "model.fit(log_x.reshape(len(log_x),1), log_xd_values.reshape(len(log_xd_values),1))\n",
    "coef = model.coef_\n",
    "intercept = model.intercept_\n",
    "print '斜率是',coef\n",
    "print '截距是',intercept"
   ]
  },
  {
   "cell_type": "code",
   "execution_count": 12,
   "metadata": {
    "collapsed": false
   },
   "outputs": [
    {
     "data": {
      "image/png": "[encoded data removed]",
      "text/plain": [
       "<matplotlib.figure.Figure at 0xe2437b8>"
      ]
     },
     "metadata": {},
     "output_type": "display_data"
    }
   ],
   "source": [
    "xx = np.linspace(-0.1,10,100)\n",
    "yy = (xx*(coef) + intercept).reshape(100,1)\n",
    "# log_x 和 log_xd_values 的散点图\n",
    "# y = - x 的斜线\n",
    "xx = np.linspace(-0.1,10,100)\n",
    "fig, ax = plt.subplots()\n",
    "ax.scatter(log_x, log_xd_values);\n",
    "ax.plot(xx, xx*(-1));\n",
    "ax.plot(xx, yy);"
   ]
  },
  {
   "cell_type": "markdown",
   "metadata": {
    "collapsed": true
   },
   "source": [
    "### 4.结论"
   ]
  },
  {
   "cell_type": "markdown",
   "metadata": {},
   "source": [
    "由齐夫定律的内容可知，判定一个文本中词是否符合齐夫定律取决于其取对数后 词序与词频之间是否符合斜率为-1的线性关系。由上述分析结果可知，该分本分析的结果是-1.1045，基本满足齐夫定律。"
   ]
  },
  {
   "cell_type": "markdown",
   "metadata": {},
   "source": [
    "### 5. 词数分析"
   ]
  },
  {
   "cell_type": "markdown",
   "metadata": {},
   "source": [
    "- 基于全部出现于文本中的词的分析结果表明，线性回归斜率为-1.1045，与-1还有一定差距。\n",
    "- 本节研究若取前 n 个高频单词进行分析，会不会得出什么不同的结果。"
   ]
  },
  {
   "cell_type": "code",
   "execution_count": 16,
   "metadata": {
    "collapsed": false
   },
   "outputs": [],
   "source": [
    "# 首先将上述过程做成函数\n",
    "# n：只分析前n个高频单词\n",
    "def words_num(n):\n",
    "    log_xx = log_x[:n]\n",
    "    log_xd_valuess = log_xd_values[:n]\n",
    "    model = linear_model.LinearRegression()\n",
    "    model.fit(log_xx.reshape(len(log_xx),1), log_xd_valuess.reshape(len(log_xd_valuess),1))\n",
    "    coef = model.coef_\n",
    "    intercept = model.intercept_\n",
    "    return coef"
   ]
  },
  {
   "cell_type": "code",
   "execution_count": 55,
   "metadata": {
    "collapsed": false
   },
   "outputs": [],
   "source": [
    "coefs = np.zeros(length_of_words)\n",
    "# 从 5 开始，计算词数量与斜率的关系\n",
    "for i in range(5, length_of_words):\n",
    "    coefs[i] = words_num(i)[0][0]"
   ]
  },
  {
   "cell_type": "code",
   "execution_count": 58,
   "metadata": {
    "collapsed": false
   },
   "outputs": [
    {
     "data": {
      "image/png": "[encoded data removed]",
      "text/plain": [
       "<matplotlib.figure.Figure at 0x1085a4a8>"
      ]
     },
     "metadata": {},
     "output_type": "display_data"
    }
   ],
   "source": [
    "fig, ax = plt.subplots(figsize=(15, 3))\n",
    "ax.plot(x[4:-1], coefs[5:]);\n",
    "ax.plot(x, np.zeros_like(x)-1, lw=0.5, color=\"black\");\n",
    "ax.set_xlabel('order');\n",
    "ax.set_ylabel('coef');"
   ]
  },
  {
   "cell_type": "code",
   "execution_count": 60,
   "metadata": {
    "collapsed": false
   },
   "outputs": [
    {
     "name": "stdout",
     "output_type": "stream",
     "text": [
      "[-0.98208972 -0.94810726 -0.93680532 -0.9134144  -0.89128274]\n"
     ]
    }
   ],
   "source": [
    "print coefs[6:11]"
   ]
  },
  {
   "cell_type": "markdown",
   "metadata": {},
   "source": [
    "由上图可知，该文本对齐夫定律的满足程度随取得单词的数量的变化而变化。\n",
    "- 当单词数很少时（5）个词，非常满足齐夫定律（斜率为-0.98），但是数量太少了（2-4个）也不行。\n",
    "- 随着选取单词数量的增加，文本对齐夫定律的满足程度呈：“减弱——增强——减弱”的趋势，在单词数800附近又一次达到了完全满足定律的情况"
   ]
  }
 ],
 "metadata": {
  "anaconda-cloud": {},
  "kernelspec": {
   "display_name": "Python [Root]",
   "language": "python",
   "name": "Python [Root]"
  },
  "language_info": {
   "codemirror_mode": {
    "name": "ipython",
    "version": 2
   },
   "file_extension": ".py",
   "mimetype": "text/x-python",
   "name": "python",
   "nbconvert_exporter": "python",
   "pygments_lexer": "ipython2",
   "version": "2.7.12"
  }
 },
 "nbformat": 4,
 "nbformat_minor": 0
}
