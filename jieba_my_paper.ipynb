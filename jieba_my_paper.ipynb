{
 "cells": [
  {
   "cell_type": "code",
   "execution_count": 10,
   "metadata": {
    "collapsed": true
   },
   "outputs": [],
   "source": [
    "# 首先对文本进行处理\n",
    "#   包括去除标点符号、英文字符等\n",
    "# encoding=utf-8\n",
    "file = open('my_paper.txt')\n",
    "all_the_text = file.read()"
   ]
  },
  {
   "cell_type": "code",
   "execution_count": 11,
   "metadata": {
    "collapsed": false
   },
   "outputs": [],
   "source": [
    "import jieba\n",
    "# 载入自定义字典，强调单词“地震动”\n",
    "jieba.load_userdict(\"userdict.txt\")"
   ]
  },
  {
   "cell_type": "code",
   "execution_count": 54,
   "metadata": {
    "collapsed": false,
    "scrolled": true
   },
   "outputs": [],
   "source": [
    "# 生成一个 list\n",
    "words = jieba.lcut(all_the_text, cut_all=False)"
   ]
  },
  {
   "cell_type": "code",
   "execution_count": 62,
   "metadata": {
    "collapsed": true
   },
   "outputs": [],
   "source": [
    "import collections\n",
    "# 生成一个字典，键是字，字是出现的次数\n",
    "dic = collections.Counter(words)"
   ]
  },
  {
   "cell_type": "code",
   "execution_count": 63,
   "metadata": {
    "collapsed": false
   },
   "outputs": [],
   "source": [
    "# 出现的次数进行排序\n",
    "values = sorted(dic.values(),reverse=True)"
   ]
  },
  {
   "cell_type": "code",
   "execution_count": 64,
   "metadata": {
    "collapsed": false
   },
   "outputs": [],
   "source": [
    "# 将次数从高到低对应的键进行排序\n",
    "keys = sorted(dic, key=dic.__getitem__, reverse=True)"
   ]
  },
  {
   "cell_type": "code",
   "execution_count": 85,
   "metadata": {
    "collapsed": false
   },
   "outputs": [
    {
     "name": "stdout",
     "output_type": "stream",
     "text": [
      "1838\n",
      "1838\n"
     ]
    }
   ],
   "source": [
    "# 统计一共有多少个词\n",
    "print len(keys)\n",
    "print len(values)\n",
    "length_of_words = len(keys)\n",
    "\n",
    "import numpy as np\n",
    "import math\n",
    "# 次序编号 1-1838\n",
    "x = np.arange(1, length_of_words+1)\n",
    "log_x = np.zeros(length_of_words)\n",
    "for i in range(length_of_words):\n",
    "    log_x[i] = math.log(x[i])"
   ]
  },
  {
   "cell_type": "code",
   "execution_count": 74,
   "metadata": {
    "collapsed": false
   },
   "outputs": [
    {
     "data": {
      "text/plain": [
       "array([ 0.        ,  0.69314718,  1.09861229, ...,  7.51534457,\n",
       "        7.51588909,  7.5164333 ])"
      ]
     },
     "execution_count": 74,
     "metadata": {},
     "output_type": "execute_result"
    }
   ],
   "source": [
    "log_x"
   ]
  },
  {
   "cell_type": "code",
   "execution_count": 75,
   "metadata": {
    "collapsed": false
   },
   "outputs": [
    {
     "name": "stdout",
     "output_type": "stream",
     "text": [
      "1.0\n"
     ]
    }
   ],
   "source": [
    "sum_all = float(sum(values))\n",
    "print sum_all"
   ]
  },
  {
   "cell_type": "code",
   "execution_count": 76,
   "metadata": {
    "collapsed": false
   },
   "outputs": [],
   "source": [
    "xd_values = np.zeros(length_of_words)\n",
    "for i in range(length_of_words):\n",
    "    xd_values[i] = values[i]/sum_all"
   ]
  },
  {
   "cell_type": "code",
   "execution_count": 77,
   "metadata": {
    "collapsed": false
   },
   "outputs": [],
   "source": [
    "log_xd_values = np.zeros(length_of_words)\n",
    "for i in range(length_of_words):\n",
    "    log_xd_values[i] = math.log(xd_values[i])"
   ]
  },
  {
   "cell_type": "code",
   "execution_count": 84,
   "metadata": {
    "collapsed": false
   },
   "outputs": [
    {
     "data": {
      "image/png": "[encoded data removed]",
      "text/plain": [
       "<matplotlib.figure.Figure at 0xc47ac88>"
      ]
     },
     "metadata": {},
     "output_type": "display_data"
    }
   ],
   "source": [
    "fig, ax = plt.subplots()\n",
    "ax.scatter(log_x, log_xd_values);\n",
    "ax.plot(np.linspace(-0.1,10,100), np.linspace(0.1,-10,100));"
   ]
  },
  {
   "cell_type": "code",
   "execution_count": null,
   "metadata": {
    "collapsed": true
   },
   "outputs": [],
   "source": [
    "fig, ax = plt.subplots()\n",
    "ax.plot(x, y1, color=\"blue\", label=\"y(x)\")\n",
    "ax.plot(x, y2, color=\"red\", label=\"y'(x)\")"
   ]
  },
  {
   "cell_type": "code",
   "execution_count": 22,
   "metadata": {
    "collapsed": false
   },
   "outputs": [
    {
     "name": "stdout",
     "output_type": "stream",
     "text": [
      "的 956\n",
      "地震动 441\n",
      "结构 385\n",
      "持时 219\n",
      "强度 194\n",
      "和 165\n",
      "在 160\n",
      "为 136\n",
      "参数 133\n",
      "网壳 126\n",
      "对 112\n",
      "模型 109\n",
      "地震 109\n",
      "响应 108\n",
      "与 98\n",
      "研究 95\n",
      "单层 90\n",
      "中 87\n",
      "分析 87\n",
      "计算 85\n",
      "了 84\n",
      "损伤 81\n",
      "时 81\n",
      "作用 80\n",
      "下 77\n",
      "是 74\n",
      "进行 72\n",
      "频率 71\n",
      "球面 70\n",
      "动力 67\n"
     ]
    }
   ],
   "source": [
    "for i in range(30):\n",
    "    print keys[i], values[i]"
   ]
  },
  {
   "cell_type": "code",
   "execution_count": 23,
   "metadata": {
    "collapsed": true
   },
   "outputs": [],
   "source": [
    "%matplotlib inline\n",
    "from matplotlib import pyplot as plt"
   ]
  },
  {
   "cell_type": "code",
   "execution_count": 24,
   "metadata": {
    "collapsed": false
   },
   "outputs": [
    {
     "data": {
      "image/png": "[encoded data removed]",
      "text/plain": [
       "<matplotlib.figure.Figure at 0xbc1c278>"
      ]
     },
     "metadata": {},
     "output_type": "display_data"
    }
   ],
   "source": [
    "plt.scatter(x, values);"
   ]
  },
  {
   "cell_type": "code",
   "execution_count": 70,
   "metadata": {
    "collapsed": false
   },
   "outputs": [
    {
     "data": {
      "text/plain": [
       "7.495541943884256"
      ]
     },
     "execution_count": 70,
     "metadata": {},
     "output_type": "execute_result"
    }
   ],
   "source": [
    "math.log(1800)"
   ]
  },
  {
   "cell_type": "code",
   "execution_count": null,
   "metadata": {
    "collapsed": true
   },
   "outputs": [],
   "source": []
  }
 ],
 "metadata": {
  "anaconda-cloud": {},
  "kernelspec": {
   "display_name": "Python [Root]",
   "language": "python",
   "name": "Python [Root]"
  },
  "language_info": {
   "codemirror_mode": {
    "name": "ipython",
    "version": 2
   },
   "file_extension": ".py",
   "mimetype": "text/x-python",
   "name": "python",
   "nbconvert_exporter": "python",
   "pygments_lexer": "ipython2",
   "version": "2.7.12"
  }
 },
 "nbformat": 4,
 "nbformat_minor": 0
}
